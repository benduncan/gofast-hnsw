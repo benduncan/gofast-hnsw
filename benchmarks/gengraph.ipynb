{
 "cells": [
  {
   "cell_type": "code",
   "execution_count": null,
   "metadata": {},
   "outputs": [],
   "source": [
    "!pip3 install pandas plotly matplotlib kaleido nbformat statsmodels"
   ]
  },
  {
   "cell_type": "code",
   "execution_count": null,
   "metadata": {},
   "outputs": [],
   "source": [
    "import pandas as pd\n",
    "import numpy as np\n",
    "import plotly.express as plx\n",
    "import matplotlib.pyplot as plt\n",
    "import kaleido"
   ]
  },
  {
   "cell_type": "code",
   "execution_count": null,
   "metadata": {},
   "outputs": [],
   "source": [
    "filename = \"1m-m16-16d-200ef.csv\"\n",
    "bench = pd.read_csv(filename)"
   ]
  },
  {
   "cell_type": "code",
   "execution_count": null,
   "metadata": {},
   "outputs": [],
   "source": [
    "bench.shape\n",
    "#bench.hnswpqs.vol = ops.vol.apply(lambda x: x.split('/')[-1])"
   ]
  },
  {
   "cell_type": "code",
   "execution_count": null,
   "metadata": {},
   "outputs": [],
   "source": [
    "bench[\"bruteqps\"] = bench.apply(lambda row: (row[\"Size\"] / row[\"Brute Search (Secs)\"]), axis=1)\n",
    "bench[\"bruteqps\"]"
   ]
  },
  {
   "cell_type": "code",
   "execution_count": null,
   "metadata": {},
   "outputs": [],
   "source": [
    "bench[\"hnswqps\"] = bench.apply(lambda row: (row[\"Size\"] / row[\"HNSW Search (Secs)\"]), axis=1)\n",
    "bench[\"hnswqps\"]"
   ]
  },
  {
   "cell_type": "code",
   "execution_count": null,
   "metadata": {},
   "outputs": [],
   "source": [
    "print(bench[\"HNSW Precision\"], bench[\"HNSW Search (Secs)\"])"
   ]
  },
  {
   "cell_type": "code",
   "execution_count": null,
   "metadata": {},
   "outputs": [],
   "source": [
    "#bench_pv = bench.pivot_table(index = 'HNSWPrecision', columns='HNSWSearchSecs', values='HNSWPrecision')\n",
    "\n",
    "plotTitle = \"HNSW Search Time for {} vectors ({} dim, M {}) on {}\".format(bench[\"Size\"][0], bench[\"Dim\"][0], bench[\"M\"][0], bench[\"CpuType\"][0])\n",
    "fig = plx.scatter(bench, x=\"HNSW Precision\", y=\"hnswqps\", color=\"EfSearch\", title=plotTitle, size=(bench[\"Dim\"]))\n",
    "\n",
    "import plotly.graph_objects as go\n",
    "\n",
    "fig.add_trace(go.Scatter(x=bench[\"HNSW Precision\"], y=bench[\"bruteqps\"],\n",
    "                    mode='lines',\n",
    "                    name='Brute Search'))\n",
    "\n",
    "fig.update_layout(legend=dict(\n",
    "    yanchor=\"top\",\n",
    "    y=1.1,\n",
    "    xanchor=\"left\",\n",
    "    x=1\n",
    "))\n",
    "\n",
    "\n",
    "fig.write_image(filename.replace(\".csv\", \".png\"), scale=4)\n",
    "fig.write_html(filename.replace(\".csv\", \".html\"))\n",
    "fig.show()"
   ]
  }
 ],
 "metadata": {
  "kernelspec": {
   "display_name": "Python 3",
   "language": "python",
   "name": "python3"
  },
  "language_info": {
   "codemirror_mode": {
    "name": "ipython",
    "version": 3
   },
   "file_extension": ".py",
   "mimetype": "text/x-python",
   "name": "python",
   "nbconvert_exporter": "python",
   "pygments_lexer": "ipython3",
   "version": "3.9.6"
  },
  "orig_nbformat": 4
 },
 "nbformat": 4,
 "nbformat_minor": 2
}
